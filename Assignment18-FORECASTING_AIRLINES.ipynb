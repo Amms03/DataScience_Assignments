{
 "cells": [
  {
   "cell_type": "code",
   "execution_count": 175,
   "id": "b0fe908b-a930-4913-afe3-fd8dfd39934d",
   "metadata": {},
   "outputs": [],
   "source": [
    "import pandas as pd\n",
    "import numpy as np\n",
    "import matplotlib.pyplot as plt\n",
    "import seaborn as sns\n",
    "\n",
    "from statsmodels.tsa.seasonal import seasonal_decompose\n",
    "from statsmodels.tsa.holtwinters import SimpleExpSmoothing \n",
    "from statsmodels.tsa.holtwinters import Holt \n",
    "from statsmodels.tsa.holtwinters import ExponentialSmoothing\n",
    "from sklearn.metrics import mean_squared_error\n",
    "\n",
    "import itertools\n",
    "import statsmodels.api as sm\n",
    "from statsmodels.tsa.arima.model import ARIMA, ARIMAResults"
   ]
  },
  {
   "cell_type": "code",
   "execution_count": 176,
   "id": "541d20ec-9393-4a70-8711-7f4e38610b39",
   "metadata": {},
   "outputs": [],
   "source": [
    "df = pd.read_excel('Airlines+Data.xlsx',\n",
    "                       index_col=0, \n",
    "                       parse_dates=['Month'])"
   ]
  },
  {
   "cell_type": "code",
   "execution_count": 216,
   "id": "facc9649",
   "metadata": {},
   "outputs": [],
   "source": [
    "df"
   ]
  },
  {
   "cell_type": "code",
   "execution_count": 178,
   "id": "e1a4d8b4-7eb9-493b-b329-c07ed820db7e",
   "metadata": {},
   "outputs": [],
   "source": [
    "df.info()"
   ]
  },
  {
   "cell_type": "code",
   "execution_count": 179,
   "id": "1ceeeace-4aa1-4d5e-9229-f7f63afd4d71",
   "metadata": {},
   "outputs": [],
   "source": [
    "df.index"
   ]
  },
  {
   "cell_type": "code",
   "execution_count": 180,
   "id": "81ceaa30-60bc-46f0-8a8f-1c738e5bb9d3",
   "metadata": {},
   "outputs": [],
   "source": [
    "plt.figure(figsize = (15,7))\n",
    "plt.plot(df)"
   ]
  },
  {
   "cell_type": "code",
   "execution_count": 181,
   "id": "97738911-9c67-46dc-a57f-c9497b37aec0",
   "metadata": {},
   "outputs": [],
   "source": [
    "df = pd.read_excel(\"Airlines+Data.xlsx\",\n",
    "                     index_col = 0,\n",
    "                     header = 0,\n",
    "                     parse_dates = True)"
   ]
  },
  {
   "cell_type": "code",
   "execution_count": 182,
   "id": "4cb89ba2",
   "metadata": {},
   "outputs": [],
   "source": [
    "df"
   ]
  },
  {
   "cell_type": "code",
   "execution_count": 183,
   "id": "225be5ac-dad7-40be-9585-f45d5dae4a0d",
   "metadata": {},
   "outputs": [],
   "source": [
    "df.hist()"
   ]
  },
  {
   "cell_type": "code",
   "execution_count": 184,
   "id": "775aae1f-b592-49b8-9b01-76f5607193af",
   "metadata": {},
   "outputs": [],
   "source": [
    "df.plot(kind='kde')"
   ]
  },
  {
   "cell_type": "code",
   "execution_count": 185,
   "id": "a7c82d88-1ff4-4ec8-bd92-f4defd92d8d3",
   "metadata": {},
   "outputs": [],
   "source": [
    "df = pd.read_excel(\"Airlines+Data.xlsx\",index_col = 0, header = 0,parse_dates = True,squeeze=True)"
   ]
  },
  {
   "cell_type": "code",
   "execution_count": 186,
   "id": "754bafed-a151-43ed-b956-6352deb80941",
   "metadata": {},
   "outputs": [],
   "source": [
    "type(df)"
   ]
  },
  {
   "cell_type": "code",
   "execution_count": 187,
   "id": "2cd5b1d3-de06-40eb-a1f1-9d2d9a41c89b",
   "metadata": {},
   "outputs": [],
   "source": [
    "groups = df.groupby(pd.Grouper(freq='A'))\n",
    "groups"
   ]
  },
  {
   "cell_type": "code",
   "execution_count": 188,
   "id": "be640e7f-ceaf-40e4-a48a-8ed4e60b71e4",
   "metadata": {},
   "outputs": [],
   "source": [
    "years = pd.DataFrame()\n",
    "\n",
    "for name, group in groups:\n",
    "    years[name.year] = group.values\n",
    "\n",
    "years"
   ]
  },
  {
   "cell_type": "code",
   "execution_count": 189,
   "id": "57efac1a-e2c5-4fc6-b807-d93c344dd87e",
   "metadata": {},
   "outputs": [],
   "source": [
    "plt.figure(figsize = (15,7))\n",
    "years.boxplot()"
   ]
  },
  {
   "cell_type": "code",
   "execution_count": 190,
   "id": "cc67b963-8871-4e0f-b328-5432f5a14a1d",
   "metadata": {},
   "outputs": [],
   "source": [
    "plt.figure(figsize = (15,9))\n",
    "pd.plotting.lag_plot(df)"
   ]
  },
  {
   "cell_type": "code",
   "execution_count": 191,
   "id": "35866f4a-01d7-4a68-ba2b-71d6f0bf5a60",
   "metadata": {},
   "outputs": [],
   "source": [
    "from statsmodels.graphics.tsaplots import plot_acf\n",
    "\n",
    "plt.figure(figsize = (32,20))\n",
    "plot_acf(df, lags=95)\n",
    "plt.show()"
   ]
  },
  {
   "cell_type": "code",
   "execution_count": 192,
   "id": "c6563beb-0095-46d2-b410-e392dfdcb6df",
   "metadata": {},
   "outputs": [],
   "source": [
    "df = pd.read_excel(\"Airlines+Data.xlsx\",index_col = 0, header = 0,parse_dates = True,squeeze=True)         "
   ]
  },
  {
   "cell_type": "code",
   "execution_count": 193,
   "id": "a711d893",
   "metadata": {},
   "outputs": [],
   "source": [
    "df"
   ]
  },
  {
   "cell_type": "code",
   "execution_count": 194,
   "id": "30ac0ca8-08fa-4aaf-907a-cedda2b95a83",
   "metadata": {},
   "outputs": [],
   "source": [
    "df.shape"
   ]
  },
  {
   "cell_type": "code",
   "execution_count": 195,
   "id": "108b8d17-d718-4d22-a67b-5f79d78dd908",
   "metadata": {},
   "outputs": [],
   "source": [
    "upsampled = df.resample('D').mean()\n",
    "upsampled.head(20)"
   ]
  },
  {
   "cell_type": "code",
   "execution_count": 196,
   "id": "dcc0601d-cbe7-40d9-ad6a-fcd510797e64",
   "metadata": {},
   "outputs": [],
   "source": [
    "upsampled.shape"
   ]
  },
  {
   "cell_type": "code",
   "execution_count": 197,
   "id": "0cec51df-7fa3-4a96-8654-ce00314a184f",
   "metadata": {},
   "outputs": [],
   "source": [
    "interpolated = upsampled.interpolate(method='linear')\n",
    "interpolated.head(30)"
   ]
  },
  {
   "cell_type": "code",
   "execution_count": 198,
   "id": "29e7b8fe-bfb2-4e42-bdab-acff9c599bce",
   "metadata": {},
   "outputs": [],
   "source": [
    "interpolated.plot()"
   ]
  },
  {
   "cell_type": "code",
   "execution_count": 199,
   "id": "92559838-1301-487d-86b5-c3fa1d8295a3",
   "metadata": {},
   "outputs": [],
   "source": [
    "df.plot()"
   ]
  },
  {
   "cell_type": "code",
   "execution_count": 200,
   "id": "8b76f139-94d3-4022-878b-bcfab190791c",
   "metadata": {},
   "outputs": [],
   "source": [
    "resample = df.resample('Q')\n",
    "quarterly_mean_sales = resample.mean()"
   ]
  },
  {
   "cell_type": "code",
   "execution_count": 201,
   "id": "f6517335-fb73-42fd-a0a5-80345d62907d",
   "metadata": {},
   "outputs": [],
   "source": [
    "quarterly_mean_sales.plot()"
   ]
  },
  {
   "cell_type": "code",
   "execution_count": 202,
   "id": "29a31b6a-90d6-4a72-996e-a0828611a7f7",
   "metadata": {},
   "outputs": [],
   "source": [
    "df=pd.read_excel(\"Airlines+Data.xlsx\",index_col=0,header=0, parse_dates=True)"
   ]
  },
  {
   "cell_type": "code",
   "execution_count": 203,
   "id": "f9e2b38e",
   "metadata": {},
   "outputs": [],
   "source": [
    "df"
   ]
  },
  {
   "cell_type": "code",
   "execution_count": 204,
   "id": "1d925ebe-dd49-426c-9693-78cb648b6eba",
   "metadata": {},
   "outputs": [],
   "source": [
    "# line plot\n",
    "plt.subplot(211)\n",
    "plt.plot(df)\n",
    "\n",
    "# histogram\n",
    "plt.subplot(212)\n",
    "plt.hist(df)\n",
    "\n",
    "plt.show()"
   ]
  },
  {
   "cell_type": "code",
   "execution_count": 205,
   "id": "02a0d0fe-b805-4e77-b9ef-06f566671d30",
   "metadata": {},
   "outputs": [],
   "source": [
    "dataframe = pd.DataFrame(np.log(df.values), columns = ['Passengers'])"
   ]
  },
  {
   "cell_type": "code",
   "execution_count": 206,
   "id": "913d856f",
   "metadata": {},
   "outputs": [],
   "source": [
    "dataframe"
   ]
  },
  {
   "cell_type": "code",
   "execution_count": 207,
   "id": "08352423-22c0-45cf-8c58-7d0c0fd03944",
   "metadata": {},
   "outputs": [],
   "source": [
    "# line plot\n",
    "plt.subplot(211)\n",
    "plt.plot(dataframe['Passengers'])\n",
    "\n",
    "# histogram\n",
    "plt.subplot(212)\n",
    "plt.hist(dataframe['Passengers'])\n",
    "plt.show()"
   ]
  },
  {
   "cell_type": "code",
   "execution_count": 208,
   "id": "abd45b8a-0dda-4c74-b771-47b910ef3143",
   "metadata": {},
   "outputs": [],
   "source": [
    "quarterly_mean_sales.head()"
   ]
  },
  {
   "cell_type": "code",
   "execution_count": 209,
   "id": "a3efc011-8b7a-41bf-aa42-91f68d07ff9c",
   "metadata": {},
   "outputs": [],
   "source": [
    "dataframe = pd.DataFrame(np.sqrt(df.values), columns = ['Passengers'])\n",
    "dataframe"
   ]
  },
  {
   "cell_type": "code",
   "execution_count": 210,
   "id": "e7390ef8-d2b4-43a7-92a7-73ea7d57ba8f",
   "metadata": {},
   "outputs": [],
   "source": [
    "# line plot\n",
    "plt.subplot(211)\n",
    "plt.plot(dataframe['Passengers'])\n",
    "\n",
    "# histogram\n",
    "plt.subplot(212)\n",
    "plt.hist(dataframe['Passengers'])\n",
    "plt.show()"
   ]
  },
  {
   "cell_type": "code",
   "execution_count": 211,
   "id": "fd4a4fe0-ecb9-4805-9e72-2533ee2c3e8f",
   "metadata": {},
   "outputs": [],
   "source": [
    "df=pd.read_excel(\"Airlines+Data.xlsx\")\n",
    "df"
   ]
  },
  {
   "cell_type": "code",
   "execution_count": 212,
   "id": "cbc76273-f653-45c3-9269-f8b2fc69a9f9",
   "metadata": {},
   "outputs": [],
   "source": [
    "df['Passengers'].plot()"
   ]
  },
  {
   "cell_type": "code",
   "execution_count": 213,
   "id": "163a2442-b8a2-43fd-a82c-31f5e746050a",
   "metadata": {},
   "outputs": [],
   "source": [
    "df[\"month\"] = df['Month'].dt.strftime(\"%b\") \n",
    "df[\"year\"] = df['Month'].dt.strftime(\"%Y\") "
   ]
  },
  {
   "cell_type": "code",
   "execution_count": 214,
   "id": "547b27ac-0e9e-42ab-a572-eafc3a397b48",
   "metadata": {},
   "outputs": [],
   "source": [
    "df"
   ]
  },
  {
   "cell_type": "code",
   "execution_count": 215,
   "id": "c4aee14b-c72d-4a38-82b2-3d705c5c73f9",
   "metadata": {},
   "outputs": [],
   "source": [
    "mp = pd.pivot_table(data = df  values = \"Passengers\",index = \"year\",columns = \"month\",aggfunc = \"mean\",fill_value=0)\n",
    "mp"
   ]
  },
  {
   "cell_type": "code",
   "execution_count": null,
   "id": "9e93b9e8-5fd6-4553-8d76-89fa81867cdf",
   "metadata": {},
   "outputs": [],
   "source": [
    "plt.figure(figsize=(12,8))\n",
    "sns.heatmap(mp,\n",
    "            annot=True,\n",
    "            fmt=\"g\",\n",
    "            cmap = 'YlGnBu') "
   ]
  },
  {
   "cell_type": "code",
   "execution_count": null,
   "id": "7c7e84dd-f38e-4da7-8271-bfd97c977299",
   "metadata": {},
   "outputs": [],
   "source": [
    "# Boxplot for ever\n",
    "plt.figure(figsize=(15,10))\n",
    "\n",
    "plt.subplot(211)\n",
    "sns.boxplot(x=\"month\",y=\"Passengers\",data=df)\n",
    "\n",
    "plt.subplot(212)\n",
    "sns.boxplot(x=\"year\",y=\"Passengers\",data=df)"
   ]
  },
  {
   "cell_type": "code",
   "execution_count": null,
   "id": "2c30b95f-8d49-47e9-91cc-ba3092bb8ddf",
   "metadata": {},
   "outputs": [],
   "source": [
    "plt.figure(figsize=(17,8))\n",
    "sns.lineplot(x=\"year\",y=\"Passengers\",data=df)"
   ]
  },
  {
   "cell_type": "code",
   "execution_count": null,
   "id": "50f9de7e-be07-4134-9939-bfe8c03690a2",
   "metadata": {},
   "outputs": [],
   "source": [
    "df"
   ]
  },
  {
   "cell_type": "code",
   "execution_count": null,
   "id": "71fb984b-edff-494e-a8c1-87324b9b980c",
   "metadata": {},
   "outputs": [],
   "source": [
    "df.shape"
   ]
  },
  {
   "cell_type": "code",
   "execution_count": null,
   "id": "f9d2653a-8cce-47a0-aadb-72d43ef3203e",
   "metadata": {},
   "outputs": [],
   "source": [
    "# Complete the dataset\n",
    "df['t']=np.arange(1,97)\n",
    "df['t_square']=np.square(df.t)\n",
    "df['log_Passengers']=np.log(df.Passengers)\n",
    "df2=pd.get_dummies(dfdf['month'])"
   ]
  },
  {
   "cell_type": "code",
   "execution_count": null,
   "id": "b297c5bd-f12f-4ff4-a0ea-7b4f5abe4a4b",
   "metadata": {},
   "outputs": [],
   "source": [
    "df"
   ]
  },
  {
   "cell_type": "code",
   "execution_count": null,
   "id": "2d3ea596-bd18-4bd5-9566-901e21356338",
   "metadata": {},
   "outputs": [],
   "source": [
    "df2"
   ]
  },
  {
   "cell_type": "code",
   "execution_count": null,
   "id": "998d4061-7ea6-40e9-8188-dd7c6b7decff",
   "metadata": {},
   "outputs": [],
   "source": [
    "dfdf=pd.concat([rohu,rohu2],axis=1)\n",
    "df"
   ]
  },
  {
   "cell_type": "code",
   "execution_count": null,
   "id": "36ee370c-a9f3-4cc7-95c3-e555d54b5a57",
   "metadata": {},
   "outputs": [],
   "source": [
    "Train = df.head(84)\n",
    "Test = df.tail(12)"
   ]
  },
  {
   "cell_type": "code",
   "execution_count": null,
   "id": "ebfa1baa-15e7-4882-ae4d-18729707f495",
   "metadata": {},
   "outputs": [],
   "source": [
    "Train"
   ]
  },
  {
   "cell_type": "code",
   "execution_count": null,
   "id": "e53ae6ed-a453-4bdc-b8d2-a4d1b61d613c",
   "metadata": {},
   "outputs": [],
   "source": [
    "Test"
   ]
  },
  {
   "cell_type": "code",
   "execution_count": null,
   "id": "494455ae-b02b-4ac4-b838-1abd155075e3",
   "metadata": {},
   "outputs": [],
   "source": [
    "#lINEAR\n",
    "import statsmodels.formula.api as smf \n",
    "\n",
    "linear_model = smf.ols('Passengers~t',data=Train).fit()\n",
    "pred_linear =  pd.Series(linear_model.predict(pd.DataFrame(Test['t'])))\n",
    "rmse_linear = np.sqrt(np.mean((np.array(Test['Passengers'])-np.array(pred_linear))**2))\n",
    "rmse_linear"
   ]
  },
  {
   "cell_type": "code",
   "execution_count": null,
   "id": "be64d558-36be-4d55-891f-4bbe16c59ab5",
   "metadata": {},
   "outputs": [],
   "source": [
    "#EXPONENTIAL\n",
    "Exp = smf.ols('log_Passengers~t',data=Train).fit()\n",
    "pred_Exp = pd.Series(Exp.predict(pd.DataFrame(Test['t'])))\n",
    "rmse_Exp = np.sqrt(np.mean((np.array(Test['Passengers'])-np.array(np.exp(pred_Exp)))**2))\n",
    "rmse_Exp"
   ]
  },
  {
   "cell_type": "code",
   "execution_count": null,
   "id": "39e5fe73-7eb4-4dcd-bfdb-681d0c631e22",
   "metadata": {},
   "outputs": [],
   "source": [
    "#QUADRATIC\n",
    "Quad = smf.ols('Passengers~t+t_square',data=Train).fit()\n",
    "pred_Quad = pd.Series(Quad.predict(Test[[\"t\",\"t_square\"]]))\n",
    "rmse_Quad = np.sqrt(np.mean((np.array(Test['Passengers'])-np.array(pred_Quad))**2))\n",
    "rmse_Quad"
   ]
  },
  {
   "cell_type": "code",
   "execution_count": null,
   "id": "38f42bbd-8d75-43e1-802d-cc1cd99f8919",
   "metadata": {},
   "outputs": [],
   "source": [
    "#ADDITIVE SEASONALITY\n",
    "add_sea = smf.ols('Passengers~Jan+Feb+Mar+Apr+May+Jun+Jul+Aug+Sep+Oct+Nov',data=Train).fit()\n",
    "pred_add_sea = pd.Series(add_sea.predict(Test[['Jan','Feb','Mar','Apr','May','Jun','Jul','Aug','Sep','Oct','Nov']]))\n",
    "rmse_add_sea = np.sqrt(np.mean((np.array(Test['Passengers'])-np.array(pred_add_sea))**2))\n",
    "rmse_add_sea"
   ]
  },
  {
   "cell_type": "code",
   "execution_count": null,
   "id": "c5c37bc4-e022-484b-b97f-ca1c04bd9294",
   "metadata": {},
   "outputs": [],
   "source": [
    "#ADDITIVE SEASONALITY QUADRATIC\n",
    "add_sea_Quad = smf.ols('Passengers~t+t_square+Jan+Feb+Mar+Apr+May+Jun+Jul+Aug+Sep+Oct+Nov',data=Train).fit()\n",
    "pred_add_sea_quad = pd.Series(add_sea_Quad.predict(Test[['Jan','Feb','Mar','Apr','May','Jun','Jul','Aug','Sep','Oct','Nov','t','t_square']]))\n",
    "rmse_add_sea_quad = np.sqrt(np.mean((np.array(Test['Passengers'])-np.array(pred_add_sea_quad))**2))\n",
    "rmse_add_sea_quad"
   ]
  },
  {
   "cell_type": "code",
   "execution_count": null,
   "id": "3b4c6838-c891-4d38-b6c9-8f2b2acf273e",
   "metadata": {},
   "outputs": [],
   "source": [
    "#MULTIPLICATIVE SEASONALITY\n",
    "Mul_sea = smf.ols('log_Passengers~Jan+Feb+Mar+Apr+May+Jun+Jul+Aug+Sep+Oct+Nov',data = Train).fit()\n",
    "pred_Mult_sea = pd.Series(Mul_sea.predict(Test))\n",
    "rmse_Mult_sea = np.sqrt(np.mean((np.array(Test['Passengers'])-np.array(np.exp(pred_Mult_sea)))**2))\n",
    "rmse_Mult_sea"
   ]
  },
  {
   "cell_type": "code",
   "execution_count": null,
   "id": "1eaf2ba9-be30-4ac2-82a0-a2d365e0654e",
   "metadata": {},
   "outputs": [],
   "source": [
    "#MULTIPLICATIVE ADDITIVE SEASONALITY\n",
    "Mul_Add_sea = smf.ols('log_Passengers~t+Jan+Feb+Mar+Apr+May+Jun+Jul+Aug+Sep+Oct+Nov',data = Train).fit()\n",
    "pred_Mult_add_sea = pd.Series(Mul_Add_sea.predict(Test))\n",
    "rmse_Mult_add_sea = np.sqrt(np.mean((np.array(Test['Passengers'])-np.array(np.exp(pred_Mult_add_sea)))**2))\n",
    "rmse_Mult_add_sea"
   ]
  },
  {
   "cell_type": "code",
   "execution_count": null,
   "id": "c29746b1-2ebb-44fb-bfc8-3e32f83d6c30",
   "metadata": {},
   "outputs": [],
   "source": [
    "#MULTIPLICATIVE SEASONALITY QUADRATIC\n",
    "mult_sea_Quad = smf.ols('log_Passengers~t+t_square+Jan+Feb+Mar+Apr+May+Jun+Jul+Aug+Sep+Oct+Nov',data=Train).fit()\n",
    "pred_mult_sea_quad = pd.Series(mult_sea_Quad.predict(Test[['Jan','Feb','Mar','Apr','May','Jun','Jul','Aug','Sep','Oct','Nov','t','t_square']]))\n",
    "rmse_mult_sea_quad = np.sqrt(np.mean((np.array(Test['Passengers'])-np.array(pred_mult_sea_quad))**2))\n",
    "rmse_mult_sea_quad"
   ]
  },
  {
   "cell_type": "code",
   "execution_count": null,
   "id": "42c3ad26-ddbc-40b9-b041-4a25f9372f26",
   "metadata": {},
   "outputs": [],
   "source": [
    "data = {\"MODEL\":pd.Series([\"rmse_linear\",\"rmse_Exp\",\"rmse_Quad\",\"rmse_add_sea\",\"rmse_add_sea_quad\",\"rmse_Mult_sea\",\"rmse_Mult_add_sea\"]),\"RMSE_Values\":pd.Series([rmse_linear,rmse_Exp,rmse_Quad,rmse_add_sea,rmse_add_sea_quad,rmse_Mult_sea,rmse_Mult_add_sea])}\n",
    "table_rmse=pd.DataFrame(data)\n",
    "table_rmse.sort_values(['RMSE_Values'])"
   ]
  },
  {
   "cell_type": "code",
   "execution_count": null,
   "id": "f7ba0aa2-88f4-4fb2-9983-164f01522d36",
   "metadata": {},
   "outputs": [],
   "source": [
    "#Build the model on entire data set\n",
    "model_full = smf.ols('log_Passengers~t+Jan+Feb+Mar+Apr+May+Jun+Jul+Aug+Sep+Oct+Nov',data=df).fit()"
   ]
  },
  {
   "cell_type": "code",
   "execution_count": null,
   "id": "1c1d191e-2cb3-4b6b-95e1-a6830346710a",
   "metadata": {},
   "outputs": [],
   "source": [
    "pred_new  = pd.Series(model_full.predict(df))\n",
    "pred_new"
   ]
  },
  {
   "cell_type": "code",
   "execution_count": null,
   "id": "340daf97-65e6-41ae-8d24-e4fa6fff8190",
   "metadata": {},
   "outputs": [],
   "source": [
    "df[\"forecasted_Passengers\"] = pd.Series(np.exp(pred_new))"
   ]
  },
  {
   "cell_type": "code",
   "execution_count": null,
   "id": "299b7ac6-fa60-42cd-a7c7-dbcd14278f22",
   "metadata": {},
   "outputs": [],
   "source": [
    "plt.figure(figsize=(15,10))\n",
    "plt.plot(df[['Passengers','forecasted_Passengers']].reset_index(drop=True))"
   ]
  },
  {
   "cell_type": "code",
   "execution_count": null,
   "id": "711b38d1-4cd8-4907-81c6-bde9cae6bede",
   "metadata": {},
   "outputs": [],
   "source": [
    "df=pd.read_excel(\"Airlines+Data.xlsx\")\n",
    "Train = df.head(84)\n",
    "Test = df.tail(12)"
   ]
  },
  {
   "cell_type": "code",
   "execution_count": null,
   "id": "c76e0d3e-ef0b-4c37-8db6-a0d03d2ec3b4",
   "metadata": {},
   "outputs": [],
   "source": [
    "Train"
   ]
  },
  {
   "cell_type": "code",
   "execution_count": null,
   "id": "5bab39d4-25c3-42c3-bf8a-ddbc1cdac436",
   "metadata": {},
   "outputs": [],
   "source": [
    "Test"
   ]
  },
  {
   "cell_type": "code",
   "execution_count": null,
   "id": "304eb155-ec45-4e24-bd97-31d3e3693277",
   "metadata": {},
   "outputs": [],
   "source": [
    "plt.figure(figsize=(24,7))\n",
    "df['Passengers'].plot(label=\"org\")\n",
    "df[\"Passengers\"].rolling(15).mean().plot(label=str(5))\n",
    "plt.legend(loc='best')"
   ]
  },
  {
   "cell_type": "code",
   "execution_count": null,
   "id": "a974ba9b-8004-4375-bb7f-0f75c6020af2",
   "metadata": {},
   "outputs": [],
   "source": [
    "plt.figure(figsize=(24,7))\n",
    "df['Passengers'].plot(label=\"org\")\n",
    "for i in range(2,24,6):\n",
    "    df[\"Passengers\"].rolling(i).mean().plot(label=str(i))\n",
    "plt.legend(loc='best')"
   ]
  },
  {
   "cell_type": "code",
   "execution_count": null,
   "id": "b95191d6-afb9-4a9d-9507-ffb8feae7e2b",
   "metadata": {},
   "outputs": [],
   "source": [
    "decompose_ts_add = seasonal_decompose(df['Passengers'], period = 12)\n",
    "decompose_ts_add.plot()\n",
    "plt.show()"
   ]
  },
  {
   "cell_type": "code",
   "execution_count": null,
   "id": "f1824fb2-fe36-4868-9e0d-e8da4f7575c2",
   "metadata": {},
   "outputs": [],
   "source": [
    "import statsmodels.graphics.tsaplots as tsa_plots\n",
    "tsa_plots.plot_acf(df.Passengers,lags=12)\n",
    "tsa_plots.plot_pacf(df.Passengers,lags=12)\n",
    "plt.show()"
   ]
  },
  {
   "cell_type": "code",
   "execution_count": null,
   "id": "a642188c-84f0-4c9e-8814-605cc6088fbc",
   "metadata": {},
   "outputs": [],
   "source": [
    "def MAPE(pred,org):\n",
    "    temp = np.abs((pred-org)/org)*100\n",
    "    return np.mean(temp)"
   ]
  },
  {
   "cell_type": "code",
   "execution_count": null,
   "id": "a09c6b2d-9b45-4466-a26b-5191af0f8b7a",
   "metadata": {},
   "outputs": [],
   "source": [
    "ses_model = SimpleExpSmoothing(Train[\"Passengers\"]).fit(smoothing_level=0.2)\n",
    "pred_ses = ses_model.predict(start = Test.index[0],end = Test.index[-1])\n",
    "MAPE(pred_ses,Test.Passengers)"
   ]
  },
  {
   "cell_type": "code",
   "execution_count": null,
   "id": "c403d02d-2f84-4e44-943d-cc23427e7145",
   "metadata": {},
   "outputs": [],
   "source": [
    "# Holt method \n",
    "hw_model = Holt(Train[\"Passengers\"]).fit(smoothing_level=0.8, smoothing_slope=0.2)\n",
    "pred_hw = hw_model.predict(start = Test.index[0],end = Test.index[-1])\n",
    "MAPE(pred_hw,Test.Passengers) "
   ]
  },
  {
   "cell_type": "code",
   "execution_count": null,
   "id": "89a2f150-85d2-4cc7-a5b1-361615552b27",
   "metadata": {},
   "outputs": [],
   "source": [
    "hwe_model_add_add = ExponentialSmoothing(Train[\"Passengers\"],seasonal=\"add\",trend=\"add\",seasonal_periods=12).fit() #add the trend to the model\n",
    "pred_hwe_add_add = hwe_model_add_add.predict(start = Test.index[0],end = Test.index[-1])\n",
    "MAPE(pred_hwe_add_add,Test.Passengers) "
   ]
  },
  {
   "cell_type": "code",
   "execution_count": null,
   "id": "dea0b847-03ce-4067-8b81-4f33fd8df964",
   "metadata": {},
   "outputs": [],
   "source": [
    "hwe_model_mul_add = ExponentialSmoothing(Train[\"Passengers\"],seasonal=\"mul\",trend=\"add\",seasonal_periods=12).fit() \n",
    "pred_hwe_mul_add = hwe_model_mul_add.predict(start = Test.index[0],end = Test.index[-1])\n",
    "MAPE(pred_hwe_mul_add,Test.Passengers)"
   ]
  },
  {
   "cell_type": "code",
   "execution_count": null,
   "id": "586126f8-0fb8-4fb5-8740-a34def5af350",
   "metadata": {},
   "outputs": [],
   "source": [
    "hwe_model_mul_add = ExponentialSmoothing(rohu[\"Passengers\"],seasonal=\"mul\",trend=\"add\",seasonal_periods=12).fit() "
   ]
  },
  {
   "cell_type": "code",
   "execution_count": null,
   "id": "bf0493b0-d710-4578-b096-393baad22fbe",
   "metadata": {},
   "outputs": [],
   "source": [
    "#Forecasting for next 12 time periods\n",
    "hwe_model_mul_add.forecast(12)"
   ]
  },
  {
   "cell_type": "code",
   "execution_count": null,
   "id": "29fe75cc",
   "metadata": {},
   "outputs": [],
   "source": [
    "import statsmodels.tsa.seasonal\n",
    "!pip install pmdarima\n",
    "from pmdarima import auto_arima"
   ]
  },
  {
   "cell_type": "code",
   "execution_count": null,
   "id": "4bed271a",
   "metadata": {},
   "outputs": [],
   "source": [
    "df=pd.read_excel(\"Airlines+Data.xlsx\",header=0, index_col=0, parse_dates=True)"
   ]
  },
  {
   "cell_type": "code",
   "execution_count": null,
   "id": "60a74a3b",
   "metadata": {},
   "outputs": [],
   "source": [
    "df"
   ]
  },
  {
   "cell_type": "code",
   "execution_count": null,
   "id": "561ee4c9",
   "metadata": {},
   "outputs": [],
   "source": [
    "df.plot()"
   ]
  },
  {
   "cell_type": "code",
   "execution_count": null,
   "id": "1aeb70cd",
   "metadata": {},
   "outputs": [],
   "source": [
    "from pmdarima.arima import ADFTest\n",
    "adf_test = ADFTest(alpha = 0.05)\n",
    "adf_test.should_diff(rohu)"
   ]
  },
  {
   "cell_type": "code",
   "execution_count": null,
   "id": "769e5bea",
   "metadata": {},
   "outputs": [],
   "source": [
    "train = df[:85]\n",
    "test = df[-20:]\n",
    "plt.plot(train)\n",
    "plt.plot(test)"
   ]
  },
  {
   "cell_type": "code",
   "execution_count": null,
   "id": "5fa4706a",
   "metadata": {},
   "outputs": [],
   "source": [
    "arima_model = auto_arima(train, start_p=0, d=1, start_q=0,\n",
    "                        max_p=5, max_d=5, max_q=5, start_P=0,\n",
    "                        D=1, start_Q=0, max_P=5, max_D=5,\n",
    "                        max_Q=5, m=12, seasonal=True,\n",
    "                        error_action='warn',trace=True,\n",
    "                        suppress_warnings=True,stepwise=True,\n",
    "                         random_state=20,n_fits=50)"
   ]
  },
  {
   "cell_type": "code",
   "execution_count": null,
   "id": "749910e6",
   "metadata": {},
   "outputs": [],
   "source": [
    "arima_model.summary()"
   ]
  },
  {
   "cell_type": "code",
   "execution_count": null,
   "id": "37678e9f",
   "metadata": {},
   "outputs": [],
   "source": [
    "prediction = pd.DataFrame(arima_model.predict(n_periods = 20),index=test.index)\n",
    "prediction.columns = ['predicted_pass']\n",
    "prediction"
   ]
  },
  {
   "cell_type": "code",
   "execution_count": null,
   "id": "d631ac85",
   "metadata": {},
   "outputs": [],
   "source": [
    "plt.figure(figsize=(8,5))\n",
    "plt.plot(train,label='Training')\n",
    "plt.plot(test, label='Test')\n",
    "plt.plot(prediction, label='Predicted')\n",
    "plt.legend(loc = 'upper left')\n",
    "plt.show()"
   ]
  },
  {
   "cell_type": "code",
   "execution_count": null,
   "id": "ad8feadf-d5ab-4d3a-aa7c-15f3769d54ad",
   "metadata": {},
   "outputs": [],
   "source": [
    "# evaluate a persistence model and load data\n",
    "train = pd.read_csv('dataset.csv', header=None, index_col=0, parse_dates=True, squeeze=True)\n",
    "train"
   ]
  },
  {
   "cell_type": "code",
   "execution_count": null,
   "id": "ef17ac20-02b7-4cb0-9b10-06dfd340704b",
   "metadata": {},
   "outputs": [],
   "source": [
    "# prepare data\n",
    "X = train.values\n",
    "X"
   ]
  },
  {
   "cell_type": "code",
   "execution_count": null,
   "id": "8e79e002-d428-4e30-86e3-013b8caad9fd",
   "metadata": {},
   "outputs": [],
   "source": [
    "X = X.astype('float32')\n",
    "X"
   ]
  },
  {
   "cell_type": "code",
   "execution_count": null,
   "id": "b4ae5cd6-6b26-4abc-af3c-9439e81f5120",
   "metadata": {},
   "outputs": [],
   "source": [
    "train_size = int(len(X) * 0.50)\n",
    "train_size"
   ]
  },
  {
   "cell_type": "code",
   "execution_count": null,
   "id": "253e94d4-00b9-475f-af37-f20b09e01aae",
   "metadata": {},
   "outputs": [],
   "source": [
    "train, test = X[0:train_size], X[train_size:]"
   ]
  },
  {
   "cell_type": "code",
   "execution_count": null,
   "id": "2a76bddf-f573-4853-86f8-c26d753b8438",
   "metadata": {},
   "outputs": [],
   "source": [
    "train"
   ]
  },
  {
   "cell_type": "code",
   "execution_count": null,
   "id": "8b84b9ac-8343-4fb4-8fc0-49bf3fbee5f7",
   "metadata": {},
   "outputs": [],
   "source": [
    "test"
   ]
  },
  {
   "cell_type": "code",
   "execution_count": null,
   "id": "82823221-6232-4777-9592-889d456ef338",
   "metadata": {},
   "outputs": [],
   "source": [
    "# walk-forward validation\n",
    "history = [x for x in train]\n",
    "import warnings\n",
    "history"
   ]
  },
  {
   "cell_type": "code",
   "execution_count": null,
   "id": "e7562d3d-2783-44d8-9ae2-9e37fc57b0dd",
   "metadata": {},
   "outputs": [],
   "source": [
    "predictions = list()\n",
    "\n",
    "for i in range(len(test)):\n",
    "    yhat = history[-1]\n",
    "    predictions.append(yhat)\n",
    "    \n",
    "    # observation\n",
    "    obs = test[i]\n",
    "    history.append(obs)\n",
    "    \n",
    "    print('>Predicted=%.3f, Expected=%.3f' % (yhat, obs))"
   ]
  },
  {
   "cell_type": "code",
   "execution_count": null,
   "id": "3338ae44-400e-4d73-9b9f-601cb4c36739",
   "metadata": {},
   "outputs": [],
   "source": [
    "# report performance\n",
    "rmse = np.sqrt(mean_squared_error(test, predictions))\n",
    "print('RMSE: %.3f' % rmse)"
   ]
  },
  {
   "cell_type": "code",
   "execution_count": null,
   "id": "303176f7-b12a-492f-be15-8fc55ab29595",
   "metadata": {},
   "outputs": [],
   "source": [
    "# save finalized model to file and load data\n",
    "train = pd.read_csv('dataset.csv', header=0, index_col=0, parse_dates=True)\n",
    "train"
   ]
  },
  {
   "cell_type": "code",
   "execution_count": null,
   "id": "c01ad3ea-e9c8-4e2f-ad65-61e095da40ff",
   "metadata": {},
   "outputs": [],
   "source": [
    "# prepare data\n",
    "X = train.values\n",
    "X = X.astype('float32')"
   ]
  },
  {
   "cell_type": "code",
   "execution_count": null,
   "id": "a7380286-36b4-4303-998b-71808fce4396",
   "metadata": {},
   "outputs": [],
   "source": [
    "# fit model\n",
    "model = ARIMA(X, order=(3,1,3))\n",
    "model_fit = model.fit()\n",
    "forecast = model_fit.forecast(steps = 12)\n",
    "forecast"
   ]
  },
  {
   "cell_type": "code",
   "execution_count": null,
   "id": "f07ee2fd-de24-4514-8ad8-45a123759075",
   "metadata": {},
   "outputs": [],
   "source": [
    "from statsmodels.graphics.tsaplots import plot_predict\n",
    "plot_predict(model_fit,1,96)\n",
    "#model_fit.plot_predict(1, 96)"
   ]
  },
  {
   "cell_type": "code",
   "execution_count": null,
   "id": "182517f1-8be0-4d55-b2c4-44d2718d5fba",
   "metadata": {},
   "outputs": [],
   "source": [
    "#Error on the test data\n",
    "val = pd.read_csv('validation.csv', header=None)\n",
    "rmse = np.sqrt(mean_squared_error(val[1], forecast))\n",
    "rmse"
   ]
  },
  {
   "cell_type": "code",
   "execution_count": null,
   "id": "55529657-8a12-4ef4-bdee-c107325f478e",
   "metadata": {},
   "outputs": [],
   "source": [
    "# fit model\n",
    "df=pd.read_excel(\"Airlines+Data.xlsx\",header=0, index_col=0, parse_dates=True)"
   ]
  },
  {
   "cell_type": "code",
   "execution_count": null,
   "id": "82ae8c73",
   "metadata": {},
   "outputs": [],
   "source": [
    "# prepare data\n",
    "X = train.values\n",
    "X = X.astype('float32')"
   ]
  },
  {
   "cell_type": "code",
   "execution_count": null,
   "id": "794be0e1-3084-453e-bf8c-acc5ec75c482",
   "metadata": {},
   "outputs": [],
   "source": [
    "model = ARIMA(X, order=(3,1,3))\n",
    "model_fit = model.fit()"
   ]
  },
  {
   "cell_type": "code",
   "execution_count": null,
   "id": "1510286a-b9ce-4a30-b2d8-056ebd70b8ea",
   "metadata": {},
   "outputs": [],
   "source": [
    "forecast=model_fit.forecast(steps=12)\n",
    "forecast"
   ]
  },
  {
   "cell_type": "code",
   "execution_count": null,
   "id": "9c68c85f-dce4-4c8b-81c2-9cd1b612611b",
   "metadata": {},
   "outputs": [],
   "source": [
    "from statsmodels.graphics.tsaplots import plot_predict\n",
    "plot_predict(model_fit,1,96)"
   ]
  }
 ],
 "metadata": {
  "kernelspec": {
   "display_name": "Python 3 (ipykernel)",
   "language": "python",
   "name": "python3"
  },
  "language_info": {
   "codemirror_mode": {
    "name": "ipython",
    "version": 3
   },
   "file_extension": ".py",
   "mimetype": "text/x-python",
   "name": "python",
   "nbconvert_exporter": "python",
   "pygments_lexer": "ipython3",
   "version": "3.11.3"
  }
 },
 "nbformat": 4,
 "nbformat_minor": 5
}
